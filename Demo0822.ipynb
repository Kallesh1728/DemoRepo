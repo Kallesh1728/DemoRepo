{
 "cells": [
  {
   "cell_type": "code",
   "execution_count": 1,
   "id": "70ee1864",
   "metadata": {},
   "outputs": [
    {
     "name": "stdout",
     "output_type": "stream",
     "text": [
      "hello world\n"
     ]
    }
   ],
   "source": [
    "print('hello world')"
   ]
  },
  {
   "cell_type": "code",
   "execution_count": 20,
   "id": "becd4795",
   "metadata": {},
   "outputs": [
    {
     "name": "stdout",
     "output_type": "stream",
     "text": [
      "10\n",
      "20\n",
      "kallesh\n"
     ]
    }
   ],
   "source": [
    "#is a comment in python\n",
    "x=10\n",
    "y=20\n",
    "myname=\"kallesh\"\n",
    "print(x)\n",
    "print(y)\n",
    "print(myname)"
   ]
  },
  {
   "cell_type": "code",
   "execution_count": 21,
   "id": "9f963d50",
   "metadata": {},
   "outputs": [
    {
     "name": "stdout",
     "output_type": "stream",
     "text": [
      "10\n",
      "20\n",
      "pinky\n"
     ]
    }
   ],
   "source": [
    "x=10\n",
    "y=20\n",
    "myname=\"pinky\"\n",
    "print(x)\n",
    "print(y)\n",
    "print(myname)\n"
   ]
  },
  {
   "cell_type": "code",
   "execution_count": 19,
   "id": "c3f90f56",
   "metadata": {},
   "outputs": [
    {
     "name": "stdout",
     "output_type": "stream",
     "text": [
      "10\n",
      "20\n",
      "kallesh\n"
     ]
    }
   ],
   "source": [
    "x=10\n",
    "y=20\n",
    "myname= \"kallesh\"\n",
    "print(x)\n",
    "print(y)\n",
    "print(myname)"
   ]
  },
  {
   "cell_type": "code",
   "execution_count": 10,
   "id": "ceee0d14",
   "metadata": {},
   "outputs": [
    {
     "name": "stdout",
     "output_type": "stream",
     "text": [
      "kallesh\n"
     ]
    }
   ],
   "source": [
    "myname=\"kallesh\"\n",
    "print(myname)"
   ]
  },
  {
   "cell_type": "code",
   "execution_count": 9,
   "id": "e195c8d9",
   "metadata": {},
   "outputs": [
    {
     "name": "stdout",
     "output_type": "stream",
     "text": [
      "kallesh\n"
     ]
    }
   ],
   "source": [
    "myname=\"kallesh\"\n",
    "print(myname)"
   ]
  },
  {
   "cell_type": "code",
   "execution_count": null,
   "id": "5eb2ab47",
   "metadata": {},
   "outputs": [],
   "source": [
    "x=10\n",
    "y=10\n",
    "Print"
   ]
  }
 ],
 "metadata": {
  "kernelspec": {
   "display_name": "Python 3 (ipykernel)",
   "language": "python",
   "name": "python3"
  },
  "language_info": {
   "codemirror_mode": {
    "name": "ipython",
    "version": 3
   },
   "file_extension": ".py",
   "mimetype": "text/x-python",
   "name": "python",
   "nbconvert_exporter": "python",
   "pygments_lexer": "ipython3",
   "version": "3.9.12"
  }
 },
 "nbformat": 4,
 "nbformat_minor": 5
}
